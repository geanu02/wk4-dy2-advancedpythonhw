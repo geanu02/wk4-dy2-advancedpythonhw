{
 "cells": [
  {
   "cell_type": "markdown",
   "id": "af9d0d62",
   "metadata": {},
   "source": [
    "### Write a function that takes an array of integers as input, and returns the sum of all the palindromic numbers in the array. If there are no palindromic numbers in the array, the function should return 0.\n",
    "A palindromic number is a number that is the same from a reversed order. For example 122 is not a palindromic number, but 202 is one.\n",
    "### For example:\n",
    "### [101, 2, 85, 33, 14014] ==> 136\n",
    "### [45, 21, 303, 56] ==> 303\n",
    "### [12, 34, 56] ==> 0"
   ]
  },
  {
   "cell_type": "code",
   "execution_count": 8,
   "id": "3bdebadf",
   "metadata": {},
   "outputs": [
    {
     "name": "stdout",
     "output_type": "stream",
     "text": [
      "136\n",
      "303\n",
      "0\n"
     ]
    }
   ],
   "source": [
    "num_list1 = [101, 2, 85, 33, 14014]\n",
    "num_list2 = [45, 21, 303, 56]\n",
    "num_list3 = [12, 34, 56]\n",
    "\n",
    "def palidromize(alist):\n",
    "    return_sum = 0\n",
    "    for elem in alist:\n",
    "        elem = str(elem)\n",
    "        if elem == elem[::-1]:\n",
    "            return_sum += int(elem)\n",
    "    return return_sum\n",
    "        \n",
    "print(palidromize(num_list1))\n",
    "print(palidromize(num_list2))\n",
    "print(palidromize(num_list3))"
   ]
  }
 ],
 "metadata": {
  "kernelspec": {
   "display_name": "Python 3 (ipykernel)",
   "language": "python",
   "name": "python3"
  },
  "language_info": {
   "codemirror_mode": {
    "name": "ipython",
    "version": 3
   },
   "file_extension": ".py",
   "mimetype": "text/x-python",
   "name": "python",
   "nbconvert_exporter": "python",
   "pygments_lexer": "ipython3",
   "version": "3.9.13"
  }
 },
 "nbformat": 4,
 "nbformat_minor": 5
}
